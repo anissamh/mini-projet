{
 "cells": [
  {
   "cell_type": "markdown",
   "metadata": {},
   "source": [
    "# <font color=green>Mini projet</font>\n",
    "# Réalisé par <font color=red>MHIRI ANISSA</font>\n",
    "# 2lm --- tp2\n",
    "## <font color=orange>jeu de feuille,pierre,ciseaux</font>"
   ]
  },
  {
   "cell_type": "code",
   "execution_count": 8,
   "metadata": {},
   "outputs": [
    {
     "name": "stdout",
     "output_type": "stream",
     "text": [
      "donnez le nombre de fois que vous voulez jouer1\n",
      "choisissez entre pierre ou feuille ou ciseaux feuille\n",
      "vous avez perdu\n",
      "votre score est:  0\n",
      "son score est 1\n",
      "il vous a battu avec  1  points.\n"
     ]
    }
   ],
   "source": [
    "from random import *\n",
    "n=int(input(\"donnez le nombre de fois que vous voulez jouer\"))\n",
    "u=0\n",
    "c=0\n",
    "for x in range (n):\n",
    "   def utilisateur():\n",
    "        j=input(\"choisissez entre pierre ou feuille ou ciseaux \")\n",
    "        while j not in [\"pierre\",\"feuille\",\"ciseaux\"]:\n",
    "             j=input(\"choisissez entre pierre ou feuille ou ciseaux \")\n",
    "        return j\n",
    "   def ordinateur():\n",
    "       o= str (choice ([\"pierre\",\"feuille\",\"ciseaux\"]))\n",
    "       return o\n",
    "\n",
    "   ordi=ordinateur()\n",
    "   joueur=utilisateur()\n",
    "   if joueur==\"pierre\":\n",
    "      if joueur==\"pierre\" and ordi==\"feuille\" :\n",
    "          print(\"vous avez perdu\")\n",
    "          c+=1\n",
    "      elif joueur==\"pierre\" and ordi==\"ciseaux\" :\n",
    "          print (\"vous aveez gagné !\")\n",
    "          u+=1\n",
    "      else:\n",
    "          print (\"Egalité\")\n",
    "\n",
    "   elif joueur==\"feuille\":\n",
    "      if joueur==\"feuille\" and ordi==\"feuille\" :\n",
    "          print (\"égalité\")\n",
    "      elif joueur==\"feuille\" and ordi==\"ciseaux\" :\n",
    "          print(\"vous avez perdu\")\n",
    "          c+=1\n",
    "      else:\n",
    "          print(\"vous avez gagné\")\n",
    "          u+=1\n",
    "\n",
    "   elif joueur==\"ciseaux\":\n",
    "       if joueur==\"ciseaux\" and ordi==\"feuille\" :\n",
    "          print (\"vous avez gagné\")\n",
    "          u+=1\n",
    "       elif joueur==\"ciseaux\" and ordi==\"ciseaux\" :\n",
    "          print(\"Egalité\")\n",
    "       else:\n",
    "          print(\"vous avez perdu\")\n",
    "          c+=1\n",
    "   else:\n",
    "       break\n",
    "print(\"votre score est: \",u)\n",
    "print(\"son score est\",c)\n",
    "if c < u:\n",
    "    print(\"BRAVO!!! votre score est de \",u,\" points.\")\n",
    "elif c > u:\n",
    "    print(\"il vous a battu avec: \",c,\" points.\")\n",
    "else :\n",
    "    print(\"vous etes à egalite avec: \",u,\" points\")"
   ]
  },
  {
   "cell_type": "code",
   "execution_count": null,
   "metadata": {},
   "outputs": [],
   "source": []
  }
 ],
 "metadata": {
  "kernelspec": {
   "display_name": "Python 3",
   "language": "python",
   "name": "python3"
  }
 },
 "nbformat": 4,
 "nbformat_minor": 4
}
